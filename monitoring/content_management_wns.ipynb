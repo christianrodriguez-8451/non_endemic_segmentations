{
 "cells": [
  {
   "cell_type": "code",
   "execution_count": 0,
   "metadata": {
    "application/vnd.databricks.v1+cell": {
     "cellMetadata": {
      "byteLimit": 2048000,
      "rowLimit": 10000
     },
     "inputWidgets": {},
     "nuid": "2ccd778e-6226-4b61-9d37-0b0e7dccd743",
     "showTitle": false,
     "title": ""
    }
   },
   "outputs": [],
   "source": [
    "# common python packages\n",
    "import pandas as pd\n",
    "import numpy as np\n",
    "import matplotlib.pyplot as plt\n",
    "from functools import reduce\n",
    "from datetime import datetime, timedelta\n",
    "\n",
    "# spark packages\n",
    "import pyspark.sql.functions as f\n",
    "import pyspark.sql.functions as F\n",
    "from pyspark.sql.window import Window\n",
    "from pyspark.sql import DataFrame, SparkSession\n",
    "from pyspark.sql.types import *\n",
    "\n",
    "# internal 8451 packages, please search on 8451 github for reference\n",
    "from effodata import ACDS, golden_rules, Sifter, Equality, Joiner\n",
    "import kayday as kd\n",
    "from toolbox.config import segmentation\n",
    "import toolbox.config as config\n",
    "# from toolbox.config import add_facebook_pandora_flags\n",
    "from toolbox import config\n",
    "from kpi_metrics import KPI, AliasMetric, CustomMetric, AliasGroupby, available_metrics, get_metrics\n",
    "import seg\n",
    "from seg.utils import DateType"
   ]
  },
  {
   "cell_type": "markdown",
   "metadata": {
    "application/vnd.databricks.v1+cell": {
     "cellMetadata": {
      "byteLimit": 2048000,
      "rowLimit": 10000
     },
     "inputWidgets": {},
     "nuid": "b74136d0-58d7-42c0-88c9-ad0c91037f09",
     "showTitle": false,
     "title": ""
    }
   },
   "source": [
    "# The Work"
   ]
  },
  {
   "cell_type": "code",
   "execution_count": 0,
   "metadata": {
    "application/vnd.databricks.v1+cell": {
     "cellMetadata": {
      "byteLimit": 2048000,
      "rowLimit": 10000
     },
     "inputWidgets": {},
     "nuid": "e457a1b8-508d-4f5d-9fc0-b0ba0fa6d64a",
     "showTitle": false,
     "title": ""
    }
   },
   "outputs": [],
   "source": [
    "def create_df_groupby_propensity_time(segmentation:str ):\n",
    "\n",
    "  root = config.get_directory(segmentation)\n",
    "\n",
    "  propensity = config.audience_dict[segmentation][\"propensity_compisition\"]\n",
    "\n",
    "  segment_type = config.get_type(segmentation)\n",
    "\n",
    "  frntend_name = config.audience_dict[segmentation][\"frontend_name\"]\n",
    "\n",
    "  formatting_propensity = ''.join(propensity)\n",
    "\n",
    "  one_segment_master_file = None\n",
    "\n",
    "  for i in config.get_files(segmentation):\n",
    "\n",
    "    one_file = root + i\n",
    "    read_in = spark.read.format(\"delta\").load(one_file)\n",
    "\n",
    "    if one_segment_master_file is None:\n",
    "      one_segment_master_file = read_in\n",
    "    else:\n",
    "      one_segment_master_file = one_segment_master_file.union(read_in)\n",
    " \n",
    "  one_segment_master_file_propensity = one_segment_master_file.filter(f.col(\"segment\").isin(propensity))\n",
    "  \n",
    "  group_by = (one_segment_master_file_propensity\n",
    "              .withColumnRenamed(\"stratum_week\", \"Time\")\n",
    "              .withColumn(\"Backend_Name\", f.lit(segmentation))\n",
    "              .withColumn(\"Propensity\", f.lit(formatting_propensity))\n",
    "              .withColumn(\"Propensity_type\", f.lit(segment_type))\n",
    "              .withColumn(\"Segment\", f.lit(frntend_name))\n",
    "              .withColumn(\"Offsite_Eligibility_Count\", f.lit(None))\n",
    "              .withColumn(\"Onsite_Eligibility_Count\", f.lit(None))\n",
    "  )\n",
    "\n",
    "  return group_by"
   ]
  },
  {
   "cell_type": "code",
   "execution_count": 0,
   "metadata": {
    "application/vnd.databricks.v1+cell": {
     "cellMetadata": {
      "byteLimit": 2048000,
      "rowLimit": 10000
     },
     "inputWidgets": {},
     "nuid": "d6611e4e-82ad-4bfa-9f07-a72ce4125c90",
     "showTitle": false,
     "title": ""
    }
   },
   "outputs": [],
   "source": [
    "display(group_by)"
   ]
  },
  {
   "cell_type": "code",
   "execution_count": 0,
   "metadata": {
    "application/vnd.databricks.v1+cell": {
     "cellMetadata": {
      "byteLimit": 2048000,
      "rowLimit": 10000
     },
     "inputWidgets": {},
     "nuid": "5ebd7147-7935-48b0-ae6d-7481cddb86ed",
     "showTitle": false,
     "title": ""
    }
   },
   "outputs": [],
   "source": [
    "display(one_segment_master_file_propensity\n",
    "        .sort('ehhn'))"
   ]
  },
  {
   "cell_type": "code",
   "execution_count": 0,
   "metadata": {
    "application/vnd.databricks.v1+cell": {
     "cellMetadata": {
      "byteLimit": 2048000,
      "rowLimit": 10000
     },
     "inputWidgets": {},
     "nuid": "948ef72f-3a5f-4baa-a4af-f3de8723a66e",
     "showTitle": false,
     "title": ""
    }
   },
   "outputs": [],
   "source": [
    "tdc_flag = (spark.read.parquet('abfss://landingzone@sa8451entlakegrnprd.dfs.core.windows.net/mart/comms/prd/fact/digital_load_offer_fact/')\n",
    "            .filter(f.col('KROGER_OFFER_ID').like('8000000%'))\n",
    "            .select('EHHN').distinct()\n",
    "            )\n"
   ]
  },
  {
   "cell_type": "code",
   "execution_count": 0,
   "metadata": {
    "application/vnd.databricks.v1+cell": {
     "cellMetadata": {
      "byteLimit": 2048000,
      "rowLimit": 10000
     },
     "inputWidgets": {},
     "nuid": "bdbca9d9-bc62-4cf6-a03b-3aaa76d719d8",
     "showTitle": false,
     "title": ""
    }
   },
   "outputs": [],
   "source": [
    "from flowcate.files import FilePath\n",
    "\n",
    "egg_path = FilePath('abfss://landingzone@sa8451entlakegrnprd.dfs.core.windows.net/mart/comms/prd/fact/eligibility_fact')\n",
    "\n",
    "latest_eg_pat = egg_path.find_latest_file()\n",
    "\n",
    "\n",
    "            "
   ]
  },
  {
   "cell_type": "code",
   "execution_count": 0,
   "metadata": {
    "application/vnd.databricks.v1+cell": {
     "cellMetadata": {
      "byteLimit": 2048000,
      "rowLimit": 10000
     },
     "inputWidgets": {},
     "nuid": "4b589d5e-8b1f-45f1-8ea2-34e5a2d3463c",
     "showTitle": false,
     "title": ""
    }
   },
   "outputs": [],
   "source": [
    "elig = (spark.read.parquet(latest_eg_pat))\n",
    "        #.select('EHHN','ROKU_FLAG','PINTEREST_ELIGIBLE_FLAG','PUSH_FLAG','PANDORA_FLAG','FACEBOOK_FLAG','EMAIL_ELIGIBLE_FLAG','SSE_ELIGIBLE_FLAG','TDC_ELIGIBLE_FLAG'))\n",
    "display(elig\n",
    "        .sort('ehhn'))"
   ]
  },
  {
   "cell_type": "markdown",
   "metadata": {
    "application/vnd.databricks.v1+cell": {
     "cellMetadata": {
      "byteLimit": 2048000,
      "rowLimit": 10000
     },
     "inputWidgets": {},
     "nuid": "4e9cc437-9837-415c-8343-5f2c8448643a",
     "showTitle": false,
     "title": ""
    }
   },
   "source": [
    "##write to blob"
   ]
  },
  {
   "cell_type": "code",
   "execution_count": 0,
   "metadata": {
    "application/vnd.databricks.v1+cell": {
     "cellMetadata": {
      "byteLimit": 2048000,
      "rowLimit": 10000
     },
     "inputWidgets": {},
     "nuid": "9ef23004-9291-4d26-9644-5d620783d5e2",
     "showTitle": false,
     "title": ""
    }
   },
   "outputs": [],
   "source": [
    "import toolbox.config as con\n",
    "import pyspark.sql.functions as f\n",
    "import pyspark.sql.types as t\n",
    "import datetime as dt\n",
    " \n",
    "segs = con.segmentations.all_segmentations\n",
    "my_schema = t.StructType([\n",
    "    t.StructField(\"ehhn\", t.StringType(), True),\n",
    "    t.StructField(\"segment\", t.StringType(), True),\n",
    "    t.StructField(\"segmentation\", t.StringType(), True),\n",
    "    t.StructField(\"front_name\", t.StringType(), True),\n",
    "    t.StructField(\"Propensity\", t.StringType(), True),\n",
    "    t.StructField(\"Segment_type\", t.StringType(), True),\n",
    "    t.StructField(\"percentile_seg\", t.StringType(), True),\n",
    "])\n",
    "df = spark.createDataFrame([], schema=my_schema)\n",
    "for s in segs:\n",
    "  #Get latest upc file of each segmentation\n",
    "  #Also get timestamp to keep upc_lists and percentile_segmentations in sync\n",
    "  segment = con.segmentation(s)\n",
    "  front_n = segment.frontend_name\n",
    "  prop = segment.propensities\n",
    "  final_prop = \"\".join(prop)\n",
    "  type_seg = segment.segment_type\n",
    "  percentile_seg = segment.type\n",
    "\n",
    "  latest_file = segment.files[-1]\n",
    "  reading_file = segment.directory + latest_file\n",
    "  temp = spark.read.format(\"delta\").load(reading_file)\n",
    "  temp = (temp\n",
    "          .withColumn(\"SEGMENTATION\", f.lit(s))\n",
    "          .withColumn('FRONTEND_NAME', f.lit(front_n))\n",
    "          .withColumn(\"PROPENSITY\", f.lit(final_prop))\n",
    "          .withColumn(\"SEGMENT_TYPE\", f.lit(type_seg))\n",
    "          .withColumn(\"PERCENTILE_SEGMENT\", f.lit(percentile_seg))\n",
    "  )\n",
    "  temp = temp.filter(f.col(\"segment\").isin(segment.propensities))\n",
    "  temp = temp.select(\"EHHN\", \"SEGMENT\", \"SEGMENTATION\",\"FRONTEND_NAME\",\"PROPENSITY\", \"SEGMENT_TYPE\",\"PERCENTILE_SEGMENT\")\n",
    "  df = df.union(temp)\n",
    " \n",
    "# df = df.groupBy(\"segmentation\").count()\n",
    "# df.show(10, truncate=False)"
   ]
  },
  {
   "cell_type": "code",
   "execution_count": 0,
   "metadata": {
    "application/vnd.databricks.v1+cell": {
     "cellMetadata": {
      "byteLimit": 2048000,
      "rowLimit": 10000
     },
     "inputWidgets": {},
     "nuid": "c5cb62b4-2621-4a7a-b757-166cadb47836",
     "showTitle": false,
     "title": ""
    }
   },
   "outputs": [],
   "source": [
    "display(df\n",
    "        #.filter(f.col('front_name').isin(''))\n",
    "        .sort('ehhn')\n",
    "        )"
   ]
  },
  {
   "cell_type": "code",
   "execution_count": 0,
   "metadata": {
    "application/vnd.databricks.v1+cell": {
     "cellMetadata": {
      "byteLimit": 2048000,
      "rowLimit": 10000
     },
     "inputWidgets": {},
     "nuid": "13aa9837-9c88-4f5d-9b1d-0f9c3073876a",
     "showTitle": false,
     "title": ""
    }
   },
   "outputs": [],
   "source": [
    "display(df.groupBy('segmentation')\n",
    "        .agg(f.count('ehhn').alias(\"count_hh\"),\n",
    "             f.max(\"front_name\").alias(\"Frontend_name\"),\n",
    "             f.max(\"segment\").alias(\"segment_extra\"),\n",
    "             f.max(\"Propensity\").alias(\"Propensity\"),\n",
    "             f.max(\"Segment_type\").alias(\"Segment_type\"),\n",
    "             f.max(\"percentile_seg\").alias(\"percentil_seg\")\n",
    "\n",
    "             ) \n",
    "        )"
   ]
  },
  {
   "cell_type": "code",
   "execution_count": 0,
   "metadata": {
    "application/vnd.databricks.v1+cell": {
     "cellMetadata": {
      "byteLimit": 2048000,
      "rowLimit": 10000
     },
     "inputWidgets": {},
     "nuid": "19f30038-c966-4b91-84b6-d7bc2c25a334",
     "showTitle": false,
     "title": ""
    }
   },
   "outputs": [],
   "source": [
    "display(df.join(elig, on='ehhn', how='left')\n",
    "        .sort('ehhn','segmentation')\n",
    "        )   #still theri are duplicate ehnn"
   ]
  },
  {
   "cell_type": "code",
   "execution_count": 0,
   "metadata": {
    "application/vnd.databricks.v1+cell": {
     "cellMetadata": {
      "byteLimit": 2048000,
      "rowLimit": 10000
     },
     "inputWidgets": {},
     "nuid": "0584ffe4-512c-4f0e-87ca-7faf5a071e4c",
     "showTitle": false,
     "title": ""
    }
   },
   "outputs": [],
   "source": [
    "segs = con.segmentations.all_segmentations\n",
    "segs.sort()\n",
    "problem_segs =[]\n",
    "seg = segs[0]\n",
    "segment = con.segmentation(seg)\n",
    "file = segment.files\n",
    "prope = segment.propensities\n",
    "dirr = segment.directory\n",
    "fornt = segment.frontend_name\n",
    "seggg = segment.segment_type\n",
    "tt = segment.type"
   ]
  },
  {
   "cell_type": "code",
   "execution_count": 0,
   "metadata": {
    "application/vnd.databricks.v1+cell": {
     "cellMetadata": {
      "byteLimit": 2048000,
      "rowLimit": 10000
     },
     "inputWidgets": {},
     "nuid": "08dd2ba0-b46b-4da4-b811-4132e39b83b8",
     "showTitle": false,
     "title": ""
    }
   },
   "outputs": [],
   "source": [
    "times = []\n",
    "for i in file:\n",
    "  names = i[0:-1]\n",
    "  times.append(names)\n",
    "times"
   ]
  },
  {
   "cell_type": "code",
   "execution_count": 0,
   "metadata": {
    "application/vnd.databricks.v1+cell": {
     "cellMetadata": {
      "byteLimit": 2048000,
      "rowLimit": 10000
     },
     "inputWidgets": {},
     "nuid": "497f2668-c7ac-4341-972c-38d7d8b96e44",
     "showTitle": false,
     "title": ""
    }
   },
   "outputs": [],
   "source": [
    "times[-1]"
   ]
  },
  {
   "cell_type": "code",
   "execution_count": 0,
   "metadata": {
    "application/vnd.databricks.v1+cell": {
     "cellMetadata": {
      "byteLimit": 2048000,
      "rowLimit": 10000
     },
     "inputWidgets": {},
     "nuid": "6e330d62-9779-4ca5-965c-3ed7824c90cd",
     "showTitle": false,
     "title": ""
    }
   },
   "outputs": [],
   "source": [
    "prope"
   ]
  },
  {
   "cell_type": "code",
   "execution_count": 0,
   "metadata": {
    "application/vnd.databricks.v1+cell": {
     "cellMetadata": {
      "byteLimit": 2048000,
      "rowLimit": 10000
     },
     "inputWidgets": {},
     "nuid": "c2cbcfb5-a8aa-4a14-9be9-060742a08f40",
     "showTitle": false,
     "title": ""
    }
   },
   "outputs": [],
   "source": [
    "dirr"
   ]
  },
  {
   "cell_type": "code",
   "execution_count": 0,
   "metadata": {
    "application/vnd.databricks.v1+cell": {
     "cellMetadata": {
      "byteLimit": 2048000,
      "rowLimit": 10000
     },
     "inputWidgets": {},
     "nuid": "86d50f14-38ba-4c25-9113-e6ccf8bf3a7c",
     "showTitle": false,
     "title": ""
    }
   },
   "outputs": [],
   "source": [
    "fornt"
   ]
  },
  {
   "cell_type": "code",
   "execution_count": 0,
   "metadata": {
    "application/vnd.databricks.v1+cell": {
     "cellMetadata": {
      "byteLimit": 2048000,
      "rowLimit": 10000
     },
     "inputWidgets": {},
     "nuid": "f93ef132-518a-4f78-ad6d-1a18372af105",
     "showTitle": false,
     "title": ""
    }
   },
   "outputs": [],
   "source": [
    "seggg"
   ]
  },
  {
   "cell_type": "code",
   "execution_count": 0,
   "metadata": {
    "application/vnd.databricks.v1+cell": {
     "cellMetadata": {
      "byteLimit": 2048000,
      "rowLimit": 10000
     },
     "inputWidgets": {},
     "nuid": "c5d9582b-c38a-4a7f-a374-d710d6386196",
     "showTitle": false,
     "title": ""
    }
   },
   "outputs": [],
   "source": [
    "tt"
   ]
  },
  {
   "cell_type": "code",
   "execution_count": 0,
   "metadata": {
    "application/vnd.databricks.v1+cell": {
     "cellMetadata": {},
     "inputWidgets": {},
     "nuid": "c40e35ca-7fa3-4b45-80c8-93fd10adb740",
     "showTitle": false,
     "title": ""
    }
   },
   "outputs": [],
   "source": []
  }
 ],
 "metadata": {
  "application/vnd.databricks.v1+notebook": {
   "dashboards": [],
   "language": "python",
   "notebookMetadata": {
    "pythonIndentUnit": 2
   },
   "notebookName": "content_management_wns",
   "widgets": {}
  }
 },
 "nbformat": 4,
 "nbformat_minor": 0
}
